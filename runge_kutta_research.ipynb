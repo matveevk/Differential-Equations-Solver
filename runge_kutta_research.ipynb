{
 "cells": [
  {
   "cell_type": "markdown",
   "metadata": {},
   "source": [
    "# Исследование метода Рунге-Кутты"
   ]
  },
  {
   "cell_type": "markdown",
   "metadata": {},
   "source": [
    "Реализация метода Рунге-Кутты (см. https://github.com/matveevk/Differential-Equations-Solver)."
   ]
  },
  {
   "cell_type": "code",
   "execution_count": 36,
   "metadata": {},
   "outputs": [],
   "source": [
    "# lines to import library\n",
    "import os\n",
    "import sys\n",
    "module_path = os.path.abspath(os.path.join('..'))\n",
    "if module_path not in sys.path:\n",
    "    sys.path.append(module_path)\n",
    "\n",
    "# other imports\n",
    "from dif_solver import DifSolver\n",
    "import matplotlib.pyplot as plt\n",
    "import math\n",
    "import numpy as np"
   ]
  },
  {
   "cell_type": "markdown",
   "metadata": {},
   "source": [
    "## Постановка задачи"
   ]
  },
  {
   "cell_type": "markdown",
   "metadata": {},
   "source": [
    "В модуле `dif_solver` реализован класс `DifSolver`, решающий задачу Коши методом Рунге-Кутты.\n",
    "\n",
    "Пусть имеется задача Коши: дано обыкновенное дифференциальное уравнение\n",
    "$$y'(x) = f(x, y),$$\n",
    "вместе с начальным условием $$y(x_0) = y_0.$$\n",
    "\n",
    "Тогда приближение исходной функции $y(x)$ можно вычислить следующим методом (**метод Рунге Кутты порядка 4**)."
   ]
  },
  {
   "cell_type": "markdown",
   "metadata": {},
   "source": [
    "При заданном (малом) шаге $h > 0$ и взятой последовательности $x_n = x_0 + h\\cdot n$, оценить соответствующие значения $y_n$ предлагается по следующей формуле:\n",
    "$$y_n = y_{n-1} + h\\cdot\\dfrac{k_1 + 2k_2 + 2k_3 + k_4}{6},$$\n",
    "где \n",
    "\n",
    "$k_1 = f(x_{n-1}, y_{n-1})$,\n",
    "\n",
    "$k_2 = f(x_{n-1} + \\frac{h}2, y_{n-1} + h\\frac{k_1}2)$,\n",
    "\n",
    "$k_3 = f(x_{n-1} + \\frac{h}2, y_{n-1} + h\\frac{k_2}2)$,\n",
    "\n",
    "$k_4 = f(x_{n-1} + h, y_{n-1} + hk_3)$.\n",
    "\n",
    "По сути каждое следующее значение $y$ в точке $x$ вычисляется на основе «предыдущего» уже оценённого значения в точке $x-h$ с помощью прибавления взвешенного изменения $y$ (на основе заданной производной $f$). Ошибка в МРК четвёртого порядка — $O(h^4)$.\n",
    "\n",
    "Конкретные параметры взвешивания (то есть способы задания $k_i$ вместе с их весами в итоговом выражении) являются параметрами метода, в класс `DifSolver` их можно передавать как параметры $a$, $b$ и $c$."
   ]
  },
  {
   "cell_type": "markdown",
   "metadata": {},
   "source": [
    "\n",
    "## Примеры работы модуля для МРК четвёртого порядка"
   ]
  },
  {
   "cell_type": "markdown",
   "metadata": {},
   "source": [
    "Рассмотрим работу классического Метода Рунге-Кутты на первом примере:\n",
    "\n",
    "$$y' = x, y(0) = 2,$$ (то есть $y = \\frac{x^2}2 + 2$)."
   ]
  },
  {
   "cell_type": "code",
   "execution_count": 64,
   "metadata": {},
   "outputs": [],
   "source": [
    "equation = \"dy/dt = t\"\n",
    "condition = \"y(0)=2\"\n",
    "true_func = lambda x: x**2 / 2 + 2\n",
    "\n",
    "# equation = \"dy/dt = cos(t)\"\n",
    "# condition = \"y(0)=2\"\n",
    "# true_func = lambda x: math.sin(x) + 2\n",
    "\n",
    "# equation = \"dy/dt = cos(t)*t\"\n",
    "# condition = \"y(0)=3\"\n",
    "# true_func = lambda x: x*math.sin(x) + math.cos(x) + 2\n",
    "\n",
    "# equation = \"dy/dt = e^t\"\n",
    "# condition = \"y(0)=3\"\n",
    "# true_func = lambda x: math.exp(x) + 2\n",
    "\n",
    "# not too good res\n",
    "equation = \"dy/dt = y*ln(t)\"\n",
    "condition = \"y(1)=1\"\n",
    "true_func = lambda x: (math.e ** -x) * (x ** x) * math.e\n",
    "\n",
    "# equation = \"dy/dx = x*y\"\n",
    "# condition = \"y(0)=1\"\n",
    "# true_func = lambda x: math.exp(x**2 / 2)"
   ]
  },
  {
   "cell_type": "code",
   "execution_count": 65,
   "metadata": {},
   "outputs": [
    {
     "data": {
      "image/png": "[encoded data removed]",
      "text/plain": [
       "<Figure size 432x288 with 1 Axes>"
      ]
     },
     "metadata": {
      "needs_background": "light"
     },
     "output_type": "display_data"
    }
   ],
   "source": [
    "ds = DifSolver(equation=equation, condition=condition)\n",
    "xs, ys = ds.solve(visualize=True, breadth=10)"
   ]
  },
  {
   "cell_type": "code",
   "execution_count": 66,
   "metadata": {},
   "outputs": [
    {
     "data": {
      "image/png": "[encoded data removed]",
      "text/plain": [
       "<Figure size 432x288 with 1 Axes>"
      ]
     },
     "metadata": {
      "needs_background": "light"
     },
     "output_type": "display_data"
    }
   ],
   "source": [
    "ys_true = list(map(true_func, xs))\n",
    "plt.plot(xs, ys, label='Результат МРК4')\n",
    "plt.plot(xs, ys_true, label='Истинное значение')\n",
    "# plt.plot(xs, abs(ys_true - ys))\n",
    "plt.legend()\n",
    "plt.title('Оценка задачи ' + equation+ ', ' + condition)\n",
    "plt.show()"
   ]
  },
  {
   "cell_type": "code",
   "execution_count": 67,
   "metadata": {},
   "outputs": [
    {
     "name": "stdout",
     "output_type": "stream",
     "text": [
      "Среднее отклонение МРК от истины: 0.010028997682102485\n",
      "Последнее отклонение МРК от истины: 0.2656284309923649\n",
      "Среднее относительное отклонение МРК от истины: 1.846462585656501e-08\n",
      "Последнее среднее отклонение МРК от истины: 2.1004473090483774e-08\n"
     ]
    }
   ],
   "source": [
    "print('Среднее отклонение МРК от истины:', \n",
    "     sum(abs(ys - ys_true)) / len(xs))\n",
    "print('Последнее отклонение МРК от истины:', abs(ys[-1] - ys_true[-1]))\n",
    "print('Среднее относительное отклонение МРК от истины:', \n",
    "     sum(abs(ys - ys_true)) / len(xs) / np.average(ys_true))\n",
    "print('Последнее среднее отклонение МРК от истины:', abs(ys[-1] - ys_true[-1]) / abs(ys_true[-1]))"
   ]
  },
  {
   "cell_type": "markdown",
   "metadata": {},
   "source": [
    "Как видно, МРК четвёртого порядка хорошо себя показывает."
   ]
  },
  {
   "cell_type": "markdown",
   "metadata": {},
   "source": [
    "## Обобщённый метод Рунге-Кутты"
   ]
  },
  {
   "cell_type": "markdown",
   "metadata": {},
   "source": [
    "Параметры пересчёта $k_i$, а также их веса, передаются как параметры: нижнетреугольная матрица a, а также два массива b, c. Размеры --- порядок метода. Устойчивость достигается при $\\sum b_i = 1$, где $b_i$ --- коэффициенты при $k_i$.\n",
    "\n",
    "Метод Рунге-Кутты четвёртого порядка --- частный случай для определённых значений $a$, $b$, $c$."
   ]
  },
  {
   "cell_type": "markdown",
   "metadata": {},
   "source": [
    "В класс `DifSolver` передаются как параметры `a`, `b`, `c`, соответственно, в функцию `solve()` (см. описание функции в коде)."
   ]
  },
  {
   "cell_type": "code",
   "execution_count": null,
   "metadata": {},
   "outputs": [],
   "source": []
  },
  {
   "cell_type": "code",
   "execution_count": null,
   "metadata": {},
   "outputs": [],
   "source": []
  }
 ],
 "metadata": {
  "kernelspec": {
   "display_name": "Python 3",
   "language": "python",
   "name": "python3"
  },
  "language_info": {
   "codemirror_mode": {
    "name": "ipython",
    "version": 3
   },
   "file_extension": ".py",
   "mimetype": "text/x-python",
   "name": "python",
   "nbconvert_exporter": "python",
   "pygments_lexer": "ipython3",
   "version": "3.7.3"
  }
 },
 "nbformat": 4,
 "nbformat_minor": 2
}
